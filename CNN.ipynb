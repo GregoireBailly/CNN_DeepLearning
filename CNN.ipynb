{
 "cells": [
  {
   "cell_type": "markdown",
   "metadata": {},
   "source": [
    "# Create a Convolutional Neural Network using Python and libraries\n",
    "\n",
    "The goal of this project is to create a CNN and learn it to recognize faces in photos.\n",
    "We will use open-sources pictures libraries to train our model.\n",
    "We will implement the following steps:\n",
    "1. Import all needed libraries\n",
    "2. Import images dataset, normalize it and shape it to fit the NN\n",
    "3. Initialize the NN \n",
    "4. Train the NN with train dataset and check with validation dataset\n",
    "5. Test the NN on test dataset"
   ]
  },
  {
   "cell_type": "markdown",
   "metadata": {},
   "source": [
    "## Initialization\n",
    "\n",
    "### 1.Import all needed libraries\n",
    "\n",
    "We begin by initializing our programing environnement, importing every library needed.\n"
   ]
  },
  {
   "cell_type": "code",
   "execution_count": 105,
   "metadata": {},
   "outputs": [
    {
     "name": "stdout",
     "output_type": "stream",
     "text": [
      "Requirement already satisfied: torchvision in c:\\users\\maxime dardy\\.conda\\envs\\ml\\lib\\site-packages (0.4.1)\n",
      "Requirement already satisfied: six in c:\\users\\maxime dardy\\.conda\\envs\\ml\\lib\\site-packages (from torchvision) (1.12.0)\n",
      "Requirement already satisfied: pillow>=4.1.1 in c:\\users\\maxime dardy\\.conda\\envs\\ml\\lib\\site-packages (from torchvision) (6.2.1)\n",
      "Requirement already satisfied: torch in c:\\users\\maxime dardy\\.conda\\envs\\ml\\lib\\site-packages (from torchvision) (1.0.1)\n",
      "Requirement already satisfied: numpy in c:\\users\\maxime dardy\\.conda\\envs\\ml\\lib\\site-packages (from torchvision) (1.16.5)\n"
     ]
    }
   ],
   "source": [
    "!pip install torchvision"
   ]
  },
  {
   "cell_type": "code",
   "execution_count": 3,
   "metadata": {},
   "outputs": [],
   "source": [
    "import matplotlib.pyplot as plt\n",
    "import torch\n",
    "import numpy as np\n",
    "import pandas as pd\n",
    "import seaborn as sb\n",
    "import random\n",
    "import torch.nn as nn\n",
    "import torch.nn.functional as F\n",
    "import torchvision\n",
    "import torchvision.transforms as transforms\n",
    "import torch.optim as optim"
   ]
  },
  {
   "cell_type": "code",
   "execution_count": 107,
   "metadata": {},
   "outputs": [
    {
     "name": "stdout",
     "output_type": "stream",
     "text": [
      "Requirement already up-to-date: skorch in c:\\users\\maxime dardy\\.conda\\envs\\ml\\lib\\site-packages (0.6.0)\n",
      "Requirement already satisfied, skipping upgrade: tqdm>=4.14.0 in c:\\users\\maxime dardy\\.conda\\envs\\ml\\lib\\site-packages (from skorch) (4.37.0)\n",
      "Requirement already satisfied, skipping upgrade: scipy>=1.1.0 in c:\\users\\maxime dardy\\.conda\\envs\\ml\\lib\\site-packages (from skorch) (1.3.1)\n",
      "Requirement already satisfied, skipping upgrade: numpy>=1.13.3 in c:\\users\\maxime dardy\\.conda\\envs\\ml\\lib\\site-packages (from skorch) (1.16.5)\n",
      "Requirement already satisfied, skipping upgrade: scikit-learn>=0.19.1 in c:\\users\\maxime dardy\\.conda\\envs\\ml\\lib\\site-packages (from skorch) (0.21.3)\n",
      "Requirement already satisfied, skipping upgrade: tabulate>=0.7.7 in c:\\users\\maxime dardy\\.conda\\envs\\ml\\lib\\site-packages (from skorch) (0.8.5)\n",
      "Requirement already satisfied, skipping upgrade: joblib>=0.11 in c:\\users\\maxime dardy\\.conda\\envs\\ml\\lib\\site-packages (from scikit-learn>=0.19.1->skorch) (0.14.0)\n"
     ]
    }
   ],
   "source": [
    "!pip install -U skorch"
   ]
  },
  {
   "cell_type": "code",
   "execution_count": 108,
   "metadata": {},
   "outputs": [],
   "source": [
    "from skorch import NeuralNetBinaryClassifier\n",
    "from sklearn.model_selection import cross_val_score\n",
    "from sklearn.model_selection import train_test_split"
   ]
  },
  {
   "cell_type": "markdown",
   "metadata": {},
   "source": [
    "### 2. Import images dataset and shape it"
   ]
  },
  {
   "cell_type": "markdown",
   "metadata": {},
   "source": [
    "Importing the dataset and normalizing it to fit into the NN"
   ]
  },
  {
   "cell_type": "code",
   "execution_count": 4,
   "metadata": {},
   "outputs": [],
   "source": [
    "transform = transforms.Compose(\n",
    "    [transforms.Resize((36,36)),\n",
    "        transforms.Grayscale(),\n",
    "        transforms.ToTensor(),\n",
    "        transforms.Normalize((0.5,), (0.5,))\n",
    "        # transforms.Normalize((0.5,0.5,0.5), (0.5,0.5,0.5))\n",
    "    ])\n",
    "\n",
    "trainsetTotal = torchvision.datasets.ImageFolder(root='./start_deep/train_images',transform=transform)\n",
    "\n",
    "trainloader = torch.utils.data.DataLoader(trainsetTotal, batch_size=64,\n",
    "                                          shuffle=True)\n",
    "\n",
    "\n",
    "\n",
    "testset = torchvision.datasets.ImageFolder(root='./start_deep/test_images_custom',transform=transform)\n",
    "testloader = torch.utils.data.DataLoader(testset, batch_size=64,\n",
    "                                         shuffle=False)\n",
    "classes=('non-visage','visage')"
   ]
  },
  {
   "cell_type": "markdown",
   "metadata": {},
   "source": [
    "print images"
   ]
  },
  {
   "cell_type": "code",
   "execution_count": 5,
   "metadata": {
    "scrolled": false
   },
   "outputs": [
    {
     "data": {
      "image/png": "[encoded data removed]",
      "text/plain": [
       "<Figure size 432x288 with 1 Axes>"
      ]
     },
     "metadata": {
      "needs_background": "light"
     },
     "output_type": "display_data"
    },
    {
     "name": "stdout",
     "output_type": "stream",
     "text": [
      "visage visage non-visage visage visage visage visage visage visage non-visage visage visage non-visage visage visage\n"
     ]
    }
   ],
   "source": [
    "def imshow(img):\n",
    "    img = img / 2 + 0.5     # unnormalize\n",
    "    npimg = img.numpy()\n",
    "    plt.imshow(np.transpose(npimg, (1, 2, 0)))\n",
    "    plt.show()\n",
    "\n",
    "\n",
    "# get some random training images\n",
    "dataiter = iter(trainloader)\n",
    "data = dataiter.next()\n",
    "\n",
    "# show images\n",
    "imshow(torchvision.utils.make_grid(data[0][0:15], nrow = 16))\n",
    "# print labels\n",
    "print(' '.join('%5s' % classes[data[1][j]] for j in range(15)))"
   ]
  },
  {
   "cell_type": "markdown",
   "metadata": {},
   "source": [
    "### 2. Initialize the NN\n",
    "\n",
    "we create our network and instanciate it using the torch.nn library"
   ]
  },
  {
   "cell_type": "code",
   "execution_count": 6,
   "metadata": {},
   "outputs": [],
   "source": [
    "class CNN(nn.Module):\n",
    "    \n",
    "    #define the architecture of the NN\n",
    "    def __init__(self):\n",
    "        super(CNN,self).__init__()\n",
    "        # 1 input chanel as images are in gray nuance\n",
    "        # 6 output channels\n",
    "        # 5x5 square convolution\n",
    "        self.conv1 = nn.Conv2d(1,6,5)\n",
    "        self.pool1 = nn.MaxPool2d(2,2)\n",
    "        self.conv2 = nn.Conv2d(6,20,5)\n",
    "        self.conv3 = nn.Conv2d(20,30,5)\n",
    "        #self.pool2 = nn.MaxPool2d(2,2)\n",
    "        #ad affine operation y = Wx + b\n",
    "        #correspond to the differents layers of the NN\n",
    "        # with W = weight of the neurones and B = bias\n",
    "        #self.fc1 = nn.Linear(20*5*5,200)\n",
    "        self.fc1 = nn.Linear(30*8*8,200)\n",
    "        self.fc2 = nn.Linear(200,80)\n",
    "        self.fc3 = nn.Linear(80,2)\n",
    "    \n",
    "    #define the feed-forward algorithm for the NN\n",
    "    \n",
    "    def forward(self, x):\n",
    "        x = self.pool1(F.relu(self.conv1(x)))\n",
    "        #x = self.pool2(F.relu(self.conv2(x)))\n",
    "        x = (F.relu(self.conv2(x)))\n",
    "        x = (F.relu(self.conv3(x)))\n",
    "        #x = x.view(-1, 20*5*5)\n",
    "        x = x.view(-1, 30*8*8)\n",
    "        x = F.relu(self.fc1(x))\n",
    "        x = F.relu(self.fc2(x))\n",
    "        x = self.fc3(x)\n",
    "        return x\n",
    "        \n",
    "cnn = CNN()"
   ]
  },
  {
   "cell_type": "markdown",
   "metadata": {},
   "source": [
    "We create the torch wrapper in order to use the skitlearn functions"
   ]
  },
  {
   "cell_type": "code",
   "execution_count": null,
   "metadata": {},
   "outputs": [],
   "source": [
    "net = NeuralNetBinaryClassifier(\n",
    "    module = CNN,\n",
    "    #criterion= nn.CrossEntropyLoss,\n",
    "    lr = 0.001,\n",
    "    optimizer = optim.SGD,\n",
    "    threshold=0.5,\n",
    "    max_epochs = 4,\n",
    "    batch_size =128,\n",
    "    warm_start=True \n",
    ")"
   ]
  },
  {
   "cell_type": "markdown",
   "metadata": {},
   "source": [
    "We now create:\n",
    "* the criterion which will calculate the Loss function\n",
    "    in this case we use CrossEntropyLoss: a combination of Softmax and Loss fct\n",
    "* the optimizer which the algorithm used to compute the weight (grad desc, Adam...)\n",
    "    in this case we use Stochastical Gradient Descent"
   ]
  },
  {
   "cell_type": "code",
   "execution_count": 7,
   "metadata": {},
   "outputs": [],
   "source": [
    "criterion = nn.CrossEntropyLoss()\n",
    "optimizer = optim.SGD(cnn.parameters(), lr=0.001, momentum=0.9)"
   ]
  },
  {
   "cell_type": "markdown",
   "metadata": {},
   "source": [
    "### 4. Train and validate the NN"
   ]
  },
  {
   "cell_type": "markdown",
   "metadata": {},
   "source": [
    "Train and validate the NN using skitlearn with cross validation"
   ]
  },
  {
   "cell_type": "code",
   "execution_count": null,
   "metadata": {},
   "outputs": [],
   "source": [
    "#trainingFeatures = trainingFeatures.view(-1,1)\n",
    "net.fit(trainingFeatures,trainingLabels)"
   ]
  },
  {
   "cell_type": "code",
   "execution_count": 10,
   "metadata": {
    "scrolled": true
   },
   "outputs": [
    {
     "name": "stdout",
     "output_type": "stream",
     "text": [
      "[1,   100 loss: 0.682]\n",
      "[1,   200 loss: 0.682]\n",
      "[1,   300 loss: 0.683]\n",
      "[1,   400 loss: 0.682]\n",
      "[1,   500 loss: 0.682]\n",
      "[1,   600 loss: 0.682]\n",
      "[1,   700 loss: 0.682]\n",
      "[1,   800 loss: 0.682]\n",
      "[1,   900 loss: 0.682]\n",
      "[1,  1000 loss: 0.682]\n",
      "[1,  1100 loss: 0.682]\n",
      "[1,  1200 loss: 0.682]\n",
      "[1,  1300 loss: 0.682]\n",
      "[1,  1400 loss: 0.682]\n",
      "[2,   100 loss: 0.682]\n",
      "[2,   200 loss: 0.682]\n",
      "[2,   300 loss: 0.682]\n",
      "[2,   400 loss: 0.682]\n",
      "[2,   500 loss: 0.682]\n",
      "[2,   600 loss: 0.682]\n",
      "[2,   700 loss: 0.682]\n",
      "[2,   800 loss: 0.682]\n",
      "[2,   900 loss: 0.682]\n"
     ]
    },
    {
     "ename": "KeyboardInterrupt",
     "evalue": "",
     "output_type": "error",
     "traceback": [
      "\u001b[1;31m---------------------------------------------------------------------------\u001b[0m",
      "\u001b[1;31mKeyboardInterrupt\u001b[0m                         Traceback (most recent call last)",
      "\u001b[1;32m<ipython-input-10-151344fe70a0>\u001b[0m in \u001b[0;36m<module>\u001b[1;34m\u001b[0m\n\u001b[0;32m     15\u001b[0m         \u001b[0moutputs\u001b[0m \u001b[1;33m=\u001b[0m \u001b[0mcnn\u001b[0m\u001b[1;33m(\u001b[0m\u001b[0minputs\u001b[0m\u001b[1;33m)\u001b[0m\u001b[1;33m\u001b[0m\u001b[1;33m\u001b[0m\u001b[0m\n\u001b[0;32m     16\u001b[0m         \u001b[0mloss\u001b[0m \u001b[1;33m=\u001b[0m \u001b[0mcriterion\u001b[0m\u001b[1;33m(\u001b[0m\u001b[0moutputs\u001b[0m\u001b[1;33m,\u001b[0m \u001b[0mlabels\u001b[0m\u001b[1;33m)\u001b[0m\u001b[1;33m\u001b[0m\u001b[1;33m\u001b[0m\u001b[0m\n\u001b[1;32m---> 17\u001b[1;33m         \u001b[0mloss\u001b[0m\u001b[1;33m.\u001b[0m\u001b[0mbackward\u001b[0m\u001b[1;33m(\u001b[0m\u001b[1;33m)\u001b[0m\u001b[1;33m\u001b[0m\u001b[1;33m\u001b[0m\u001b[0m\n\u001b[0m\u001b[0;32m     18\u001b[0m         \u001b[0moptimizer\u001b[0m\u001b[1;33m.\u001b[0m\u001b[0mstep\u001b[0m\u001b[1;33m(\u001b[0m\u001b[1;33m)\u001b[0m\u001b[1;33m\u001b[0m\u001b[1;33m\u001b[0m\u001b[0m\n\u001b[0;32m     19\u001b[0m \u001b[1;33m\u001b[0m\u001b[0m\n",
      "\u001b[1;32m~\\.conda\\envs\\ML\\lib\\site-packages\\torch\\tensor.py\u001b[0m in \u001b[0;36mbackward\u001b[1;34m(self, gradient, retain_graph, create_graph)\u001b[0m\n\u001b[0;32m    100\u001b[0m                 \u001b[0mproducts\u001b[0m\u001b[1;33m.\u001b[0m \u001b[0mDefaults\u001b[0m \u001b[0mto\u001b[0m\u001b[0;31m \u001b[0m\u001b[0;31m`\u001b[0m\u001b[0;31m`\u001b[0m\u001b[1;32mFalse\u001b[0m\u001b[0;31m`\u001b[0m\u001b[0;31m`\u001b[0m\u001b[1;33m.\u001b[0m\u001b[1;33m\u001b[0m\u001b[1;33m\u001b[0m\u001b[0m\n\u001b[0;32m    101\u001b[0m         \"\"\"\n\u001b[1;32m--> 102\u001b[1;33m         \u001b[0mtorch\u001b[0m\u001b[1;33m.\u001b[0m\u001b[0mautograd\u001b[0m\u001b[1;33m.\u001b[0m\u001b[0mbackward\u001b[0m\u001b[1;33m(\u001b[0m\u001b[0mself\u001b[0m\u001b[1;33m,\u001b[0m \u001b[0mgradient\u001b[0m\u001b[1;33m,\u001b[0m \u001b[0mretain_graph\u001b[0m\u001b[1;33m,\u001b[0m \u001b[0mcreate_graph\u001b[0m\u001b[1;33m)\u001b[0m\u001b[1;33m\u001b[0m\u001b[1;33m\u001b[0m\u001b[0m\n\u001b[0m\u001b[0;32m    103\u001b[0m \u001b[1;33m\u001b[0m\u001b[0m\n\u001b[0;32m    104\u001b[0m     \u001b[1;32mdef\u001b[0m \u001b[0mregister_hook\u001b[0m\u001b[1;33m(\u001b[0m\u001b[0mself\u001b[0m\u001b[1;33m,\u001b[0m \u001b[0mhook\u001b[0m\u001b[1;33m)\u001b[0m\u001b[1;33m:\u001b[0m\u001b[1;33m\u001b[0m\u001b[1;33m\u001b[0m\u001b[0m\n",
      "\u001b[1;32m~\\.conda\\envs\\ML\\lib\\site-packages\\torch\\autograd\\__init__.py\u001b[0m in \u001b[0;36mbackward\u001b[1;34m(tensors, grad_tensors, retain_graph, create_graph, grad_variables)\u001b[0m\n\u001b[0;32m     88\u001b[0m     Variable._execution_engine.run_backward(\n\u001b[0;32m     89\u001b[0m         \u001b[0mtensors\u001b[0m\u001b[1;33m,\u001b[0m \u001b[0mgrad_tensors\u001b[0m\u001b[1;33m,\u001b[0m \u001b[0mretain_graph\u001b[0m\u001b[1;33m,\u001b[0m \u001b[0mcreate_graph\u001b[0m\u001b[1;33m,\u001b[0m\u001b[1;33m\u001b[0m\u001b[1;33m\u001b[0m\u001b[0m\n\u001b[1;32m---> 90\u001b[1;33m         allow_unreachable=True)  # allow_unreachable flag\n\u001b[0m\u001b[0;32m     91\u001b[0m \u001b[1;33m\u001b[0m\u001b[0m\n\u001b[0;32m     92\u001b[0m \u001b[1;33m\u001b[0m\u001b[0m\n",
      "\u001b[1;31mKeyboardInterrupt\u001b[0m: "
     ]
    }
   ],
   "source": [
    "for epoch in range(6): # loop over the dataset multiple times\n",
    "    \n",
    "    running_loss = 0.0\n",
    "    for i, data in enumerate(trainloader, 0):\n",
    "        #get the inputs; data is a list of [inputs, labels]\n",
    "        inputs, labels = data\n",
    "        \n",
    "       # imshow(torchvision.utils.make_grid(inputs[0:10]))\n",
    "       # print(' '.join('%5s' % classes[labels[j]] for j in range(10)))\n",
    "        \n",
    "        #zero the parameter gradients\n",
    "        optimizer.zero_grad()\n",
    "        \n",
    "        #forward + backward prop + optimizer\n",
    "        outputs = cnn(inputs)\n",
    "        loss = criterion(outputs, labels)\n",
    "        loss.backward()\n",
    "        optimizer.step()\n",
    "        \n",
    "        #print statistics\n",
    "        running_loss += loss.item()\n",
    "        if i %100 == 99: #print every 100 mini-batches\n",
    "            print('[%d, %5d loss: %.3f]' %\n",
    "                 (epoch +1, i +1, running_loss / 100))\n",
    "            running_loss = 0.0\n",
    "            \n",
    "print('Finished Training')"
   ]
  },
  {
   "cell_type": "markdown",
   "metadata": {},
   "source": [
    "We save our trained model"
   ]
  },
  {
   "cell_type": "code",
   "execution_count": null,
   "metadata": {},
   "outputs": [],
   "source": [
    "PATH = './CNN_2.pth'\n",
    "torch.save(cnn.state_dict(), PATH)"
   ]
  },
  {
   "cell_type": "code",
   "execution_count": 9,
   "metadata": {
    "jupyter": {
     "outputs_hidden": true
    }
   },
   "outputs": [
    {
     "ename": "RuntimeError",
     "evalue": "Error(s) in loading state_dict for CNN:\n\tsize mismatch for fc3.weight: copying a param with shape torch.Size([1, 80]) from checkpoint, the shape in current model is torch.Size([2, 80]).\n\tsize mismatch for fc3.bias: copying a param with shape torch.Size([1]) from checkpoint, the shape in current model is torch.Size([2]).",
     "output_type": "error",
     "traceback": [
      "\u001b[1;31m---------------------------------------------------------------------------\u001b[0m",
      "\u001b[1;31mRuntimeError\u001b[0m                              Traceback (most recent call last)",
      "\u001b[1;32m<ipython-input-9-17d6436232fc>\u001b[0m in \u001b[0;36m<module>\u001b[1;34m\u001b[0m\n\u001b[0;32m      1\u001b[0m \u001b[0mcnn\u001b[0m \u001b[1;33m=\u001b[0m \u001b[0mCNN\u001b[0m\u001b[1;33m(\u001b[0m\u001b[1;33m)\u001b[0m\u001b[1;33m\u001b[0m\u001b[1;33m\u001b[0m\u001b[0m\n\u001b[0;32m      2\u001b[0m \u001b[0mPATH\u001b[0m \u001b[1;33m=\u001b[0m \u001b[1;34m'./CNN_2.pth'\u001b[0m\u001b[1;33m\u001b[0m\u001b[1;33m\u001b[0m\u001b[0m\n\u001b[1;32m----> 3\u001b[1;33m \u001b[0mcnn\u001b[0m\u001b[1;33m.\u001b[0m\u001b[0mload_state_dict\u001b[0m\u001b[1;33m(\u001b[0m\u001b[0mtorch\u001b[0m\u001b[1;33m.\u001b[0m\u001b[0mload\u001b[0m\u001b[1;33m(\u001b[0m\u001b[0mPATH\u001b[0m\u001b[1;33m)\u001b[0m\u001b[1;33m)\u001b[0m\u001b[1;33m\u001b[0m\u001b[1;33m\u001b[0m\u001b[0m\n\u001b[0m",
      "\u001b[1;32m~\\.conda\\envs\\ML\\lib\\site-packages\\torch\\nn\\modules\\module.py\u001b[0m in \u001b[0;36mload_state_dict\u001b[1;34m(self, state_dict, strict)\u001b[0m\n\u001b[0;32m    767\u001b[0m         \u001b[1;32mif\u001b[0m \u001b[0mlen\u001b[0m\u001b[1;33m(\u001b[0m\u001b[0merror_msgs\u001b[0m\u001b[1;33m)\u001b[0m \u001b[1;33m>\u001b[0m \u001b[1;36m0\u001b[0m\u001b[1;33m:\u001b[0m\u001b[1;33m\u001b[0m\u001b[1;33m\u001b[0m\u001b[0m\n\u001b[0;32m    768\u001b[0m             raise RuntimeError('Error(s) in loading state_dict for {}:\\n\\t{}'.format(\n\u001b[1;32m--> 769\u001b[1;33m                                self.__class__.__name__, \"\\n\\t\".join(error_msgs)))\n\u001b[0m\u001b[0;32m    770\u001b[0m \u001b[1;33m\u001b[0m\u001b[0m\n\u001b[0;32m    771\u001b[0m     \u001b[1;32mdef\u001b[0m \u001b[0m_named_members\u001b[0m\u001b[1;33m(\u001b[0m\u001b[0mself\u001b[0m\u001b[1;33m,\u001b[0m \u001b[0mget_members_fn\u001b[0m\u001b[1;33m,\u001b[0m \u001b[0mprefix\u001b[0m\u001b[1;33m=\u001b[0m\u001b[1;34m''\u001b[0m\u001b[1;33m,\u001b[0m \u001b[0mrecurse\u001b[0m\u001b[1;33m=\u001b[0m\u001b[1;32mTrue\u001b[0m\u001b[1;33m)\u001b[0m\u001b[1;33m:\u001b[0m\u001b[1;33m\u001b[0m\u001b[1;33m\u001b[0m\u001b[0m\n",
      "\u001b[1;31mRuntimeError\u001b[0m: Error(s) in loading state_dict for CNN:\n\tsize mismatch for fc3.weight: copying a param with shape torch.Size([1, 80]) from checkpoint, the shape in current model is torch.Size([2, 80]).\n\tsize mismatch for fc3.bias: copying a param with shape torch.Size([1]) from checkpoint, the shape in current model is torch.Size([2])."
     ]
    }
   ],
   "source": [
    "cnn = CNN()\n",
    "PATH = './CNN_2.pth'\n",
    "cnn.load_state_dict(torch.load(PATH))"
   ]
  },
  {
   "cell_type": "markdown",
   "metadata": {},
   "source": [
    "### 5. Test the NN on test dataset"
   ]
  },
  {
   "cell_type": "code",
   "execution_count": null,
   "metadata": {},
   "outputs": [],
   "source": [
    "correct = 0\n",
    "total = 0\n",
    "with torch.no_grad():\n",
    "    for data in testloader:\n",
    "        imagesTest, labelsTest = data\n",
    "        outputsTest = cnn(imagesTest)\n",
    "        _,predicted = torch.max(outputsTest.data, 1)\n",
    "        total += labelsTest.size(0)\n",
    "        correct += (predicted == labelsTest).sum().item()\n",
    "\n",
    "print('Accuracy of the network on the 10000 test images: %d %%' % (\n",
    "    100 * correct / total))\n"
   ]
  },
  {
   "cell_type": "markdown",
   "metadata": {},
   "source": [
    "### 6. Detect the faces in general images"
   ]
  },
  {
   "cell_type": "code",
   "execution_count": null,
   "metadata": {},
   "outputs": [],
   "source": [
    "!pip install imutils"
   ]
  },
  {
   "cell_type": "code",
   "execution_count": 11,
   "metadata": {},
   "outputs": [
    {
     "ename": "TabError",
     "evalue": "inconsistent use of tabs and spaces in indentation (<ipython-input-11-e338b03248ee>, line 46)",
     "output_type": "error",
     "traceback": [
      "\u001b[1;36m  File \u001b[1;32m\"<ipython-input-11-e338b03248ee>\"\u001b[1;36m, line \u001b[1;32m46\u001b[0m\n\u001b[1;33m    a = 2\u001b[0m\n\u001b[1;37m         ^\u001b[0m\n\u001b[1;31mTabError\u001b[0m\u001b[1;31m:\u001b[0m inconsistent use of tabs and spaces in indentation\n"
     ]
    }
   ],
   "source": [
    "import imutils\n",
    "import argparse\n",
    "import cv2\n",
    "import time\n",
    "from PIL import Image\n",
    "\n",
    "transformer = transforms.Compose([transforms.Resize(36),\n",
    "                                      transforms.ToTensor(),\n",
    "                                     ])\n",
    "\n",
    "def pyramid(image, scale=1.2, minSize=(36,36)):\n",
    "    yield image\n",
    "\n",
    "    while True:\n",
    "        #compute the new dimensions and resize\n",
    "        w = int(image.shape[1] / scale)\n",
    "        image = imutils.resize(image, width = w)\n",
    "\n",
    "        #if image is small enough stop\n",
    "        if image.shape[0] < minSize[1] or image.shape[1] < minSize[0]:\n",
    "            break\n",
    "\n",
    "        yield image\n",
    "\n",
    "\n",
    "def sliding_window(image, stepSize, windowSize):\n",
    "    #sliding a window across the image\n",
    "    for y in range(0, image.shape[0], stepSize):\n",
    "        for x in range (0, image.shape[1], stepSize):\n",
    "            #yield the current window\n",
    "            yield (x, y, image[y:y + windowSize[1], x:x + windowSize[0]])\n",
    "\n",
    "\n",
    "image = cv2.imread(\"image.jpg\")\n",
    "(winW, winH) = (36, 36)\n",
    "\n",
    "#loop over the pyramid\n",
    "for (i, resized) in enumerate(pyramid(image)):\n",
    "    # loop over the sliding window for each layer of the pyramid\n",
    "\tfor (x, y, window) in sliding_window(resized, stepSize=15, windowSize=(winW, winH)):\n",
    "\t\t# if the window does not meet our desired window size, ignore it\n",
    "\t\tif window.shape[0] != winH or window.shape[1] != winW:\n",
    "\t\t\tcontinue\n",
    "  \n",
    "\n",
    "\t\ta = 2\n",
    "\t\tROI = resized[y:y+winH, x:x+winW]\n",
    "\t\tROI_grey = cv2.cvtColor(ROI, cv2.COLOR_BGR2GRAY)\n",
    "\t\tPIL_ROI = Image.fromarray(ROI_grey)\n",
    "\t\tROI_tensor = transformer(PIL_ROI).float()\n",
    "\t\tROI_tensor = ROI_tensor.unsqueeze_(0)\n",
    "\t\tisFace = cnn(ROI_tensor)\n",
    "        \n",
    "\t\tif isFace:\n",
    "\t\t\tcv2.rectangle(image, (x, y), (x + winW, y + winH), (0, 255, 0), 2)\n",
    "\t\t\tcv2.imshow(\"Window\", image)\n",
    "\t\t\tcv2.waitKey(1)\n",
    " \n",
    "# \t\tsince we do not have a classifier, we'll just draw the window\n",
    "# \t\tclone = resized.copy()\n",
    "# \t\tcv2.rectangle(clone, (x, y), (x + winW, y + winH), (0, 255, 0), 2)\n",
    "# \t\tcv2.imshow(\"Window\", clone)\n",
    "# \t\tcv2.waitKey(1)\n",
    "\n",
    "cv2.destroyAllWindows()"
   ]
  }
 ],
 "metadata": {
  "kernelspec": {
   "display_name": "Python 3",
   "language": "python",
   "name": "python3"
  },
  "language_info": {
   "codemirror_mode": {
    "name": "ipython",
    "version": 3
   },
   "file_extension": ".py",
   "mimetype": "text/x-python",
   "name": "python",
   "nbconvert_exporter": "python",
   "pygments_lexer": "ipython3",
   "version": "3.7.4"
  }
 },
 "nbformat": 4,
 "nbformat_minor": 4
}
